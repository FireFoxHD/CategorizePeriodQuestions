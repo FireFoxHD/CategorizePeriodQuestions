{
  "nbformat": 4,
  "nbformat_minor": 0,
  "metadata": {
    "colab": {
      "name": "PredictionsBasedOffUserInput.ipynb",
      "provenance": [],
      "collapsed_sections": [],
      "authorship_tag": "ABX9TyO/RDcw84dliI7aEWpyW8yT",
      "include_colab_link": true
    },
    "kernelspec": {
      "name": "python3",
      "display_name": "Python 3"
    },
    "language_info": {
      "name": "python"
    }
  },
  "cells": [
    {
      "cell_type": "markdown",
      "metadata": {
        "id": "view-in-github",
        "colab_type": "text"
      },
      "source": [
        "<a href=\"https://colab.research.google.com/github/PeriodPrideJa/CategorizePeriodQuestions/blob/main/PredictionsBasedOffUserInput.ipynb\" target=\"_parent\"><img src=\"https://colab.research.google.com/assets/colab-badge.svg\" alt=\"Open In Colab\"/></a>"
      ]
    },
    {
      "cell_type": "code",
      "metadata": {
        "id": "Z8PvfZKMWIIQ"
      },
      "source": [
        "import tensorflow as tf\n",
        "from tensorflow.keras.preprocessing.text import Tokenizer\n",
        "from tensorflow.keras.preprocessing.sequence import pad_sequences"
      ],
      "execution_count": 1,
      "outputs": []
    },
    {
      "cell_type": "code",
      "metadata": {
        "id": "affYuXPCCW_J"
      },
      "source": [
        "# LOADING MODEL FROM h5 FILE\n",
        "model = tf.keras.models.load_model('categoryModel.h5')"
      ],
      "execution_count": 2,
      "outputs": []
    },
    {
      "cell_type": "code",
      "metadata": {
        "id": "EvPt3RDoCfpa"
      },
      "source": [
        "tk = Tokenizer()\n",
        "\n",
        "labels2 = ['gp', 'pg', 'mp', 'mh', 'cp', 'sx'] #for general category\n",
        "new_question = [\"what are tampons\"]\n",
        "seq = tk.texts_to_sequences(new_question)\n",
        "paddedQuestion = pad_sequences(seq)\n",
        "pred = model.predict(paddedQuestion)\n",
        "labels = labels2\n",
        "genCategory = labels[np.argmax(pred)]\n",
        "\n",
        "if genCategory == \"gp\":\n",
        "  subCategoryList = ['cyclelengths', 'discharge', 'generalperiod', 'irregularperiods']\n"
      ],
      "execution_count": null,
      "outputs": []
    }
  ]
}